{
 "cells": [
  {
   "cell_type": "markdown",
   "id": "e979270b-009a-40c3-a2d5-57c9b66974c2",
   "metadata": {},
   "source": [
    "### Import the Data into MongoDB (Bronze Layer)"
   ]
  },
  {
   "cell_type": "code",
   "execution_count": 15,
   "id": "81d850b4-bb50-4e45-9ab3-3e49256609f1",
   "metadata": {},
   "outputs": [
    {
     "name": "stdout",
     "output_type": "stream",
     "text": [
      "Rows: 100679, Columns: 8\n"
     ]
    }
   ],
   "source": [
    "import pandas as pd\n",
    "from pymongo import MongoClient\n",
    "\n",
    "# Load the CSV file\n",
    "data = pd.read_csv(\"Brazilian_Portuguese_Sentiment.csv\")\n",
    "\n",
    "# Connect to MongoDB\n",
    "client = MongoClient('mongodb://localhost:27017/')\n",
    "db = client[\"bigdata_project\"]\n",
    "collection = db[\"Brazilian_Portuguese_Sentiment\"]\n",
    "\n",
    "# Convert DataFrame to dictionary and insert into MongoDB\n",
    "data_dict = data.to_dict(\"records\")\n",
    "collection.insert_many(data_dict)\n",
    "\n",
    "# Check number of rows and columns\n",
    "print(f\"Rows: {data.shape[0]}, Columns: {data.shape[1]}\")"
   ]
  },
  {
   "cell_type": "markdown",
   "id": "b444e77e-4b49-4c84-bec6-5de5314df3c3",
   "metadata": {},
   "source": [
    "### Data Cleaning (Silver Layer)"
   ]
  },
  {
   "cell_type": "code",
   "execution_count": 16,
   "id": "fc82be46-8bb8-4489-b8d6-ac8b23a2f5f7",
   "metadata": {},
   "outputs": [
    {
     "name": "stdout",
     "output_type": "stream",
     "text": [
      "<class 'pandas.core.frame.DataFrame'>\n",
      "RangeIndex: 100679 entries, 0 to 100678\n",
      "Data columns (total 8 columns):\n",
      " #   Column                 Non-Null Count   Dtype  \n",
      "---  ------                 --------------   -----  \n",
      " 0   original_index         100679 non-null  int64  \n",
      " 1   review_text            100679 non-null  object \n",
      " 2   review_text_processed  100679 non-null  object \n",
      " 3   review_text_tokenized  100679 non-null  object \n",
      " 4   polarity               88238 non-null   float64\n",
      " 5   rating                 100679 non-null  int64  \n",
      " 6   kfold_polarity         100679 non-null  int64  \n",
      " 7   kfold_rating           100679 non-null  int64  \n",
      "dtypes: float64(1), int64(4), object(3)\n",
      "memory usage: 6.1+ MB\n"
     ]
    }
   ],
   "source": [
    "data.info()"
   ]
  },
  {
   "cell_type": "code",
   "execution_count": 17,
   "id": "79167286-29c9-4038-bc72-d71dd1935947",
   "metadata": {},
   "outputs": [
    {
     "data": {
      "text/plain": [
       "original_index               0\n",
       "review_text                  0\n",
       "review_text_processed        0\n",
       "review_text_tokenized        0\n",
       "polarity                 12441\n",
       "rating                       0\n",
       "kfold_polarity               0\n",
       "kfold_rating                 0\n",
       "dtype: int64"
      ]
     },
     "execution_count": 17,
     "metadata": {},
     "output_type": "execute_result"
    }
   ],
   "source": [
    "#Before Data cleaning\n",
    "data.isnull().sum()"
   ]
  },
  {
   "cell_type": "code",
   "execution_count": 32,
   "id": "7d50a3b3-9a9d-49e2-85aa-16d771fad636",
   "metadata": {},
   "outputs": [],
   "source": [
    "# Check for missing values\n",
    "import warnings\n",
    "warnings.filterwarnings('ignore')\n",
    "data.isnull().sum()\n",
    "data = data.drop_duplicates()\n",
    "# Handle missing values (if any)\n",
    "data.fillna(method='ffill', inplace=True)"
   ]
  },
  {
   "cell_type": "code",
   "execution_count": 19,
   "id": "ea6d176e-db11-4128-a8bc-c287f094c60a",
   "metadata": {},
   "outputs": [
    {
     "data": {
      "text/plain": [
       "original_index           0\n",
       "review_text              0\n",
       "review_text_processed    0\n",
       "review_text_tokenized    0\n",
       "polarity                 0\n",
       "rating                   0\n",
       "kfold_polarity           0\n",
       "kfold_rating             0\n",
       "dtype: int64"
      ]
     },
     "execution_count": 19,
     "metadata": {},
     "output_type": "execute_result"
    }
   ],
   "source": [
    "#After Data Cleanig\n",
    "data.isnull().sum()"
   ]
  },
  {
   "cell_type": "markdown",
   "id": "a5dc39b7-24e8-4df1-9880-0664a547efad",
   "metadata": {},
   "source": [
    "### Aggregation (Golden Layer)"
   ]
  },
  {
   "cell_type": "code",
   "execution_count": 28,
   "id": "d373999e-fd54-4baf-bd16-ffdce1d8476f",
   "metadata": {},
   "outputs": [],
   "source": [
    "# Distribution of ratings\n",
    "rating_counts = data['rating'].value_counts().reset_index()\n",
    "rating_counts.columns = ['Rating', 'Review_Count']\n",
    "print(\"Distribution of Ratings:\")\n",
    "print(rating_counts.head()) \n",
    "# Count of reviews by rating\n",
    "rating_counts = data['rating'].value_counts().reset_index()\n",
    "rating_counts.columns = ['Rating', 'Review_Count']\n",
    "print(\"\\nCount of Reviews by Rating:\")\n",
    "print(rating_counts.head()) \n",
    "# Average polarity by rating\n",
    "avg_polarity_rating = data.groupby('rating')['polarity'].mean().reset_index()\n",
    "avg_polarity_rating.columns = ['Rating', 'Avg_Polarity']\n",
    "print(avg_polarity_rating.head())"
   ]
  },
  {
   "cell_type": "code",
   "execution_count": null,
   "id": "ff295066-b4f9-43f0-b880-42fb340b945d",
   "metadata": {},
   "outputs": [],
   "source": []
  }
 ],
 "metadata": {
  "kernelspec": {
   "display_name": "Python 3 (ipykernel)",
   "language": "python",
   "name": "python3"
  },
  "language_info": {
   "codemirror_mode": {
    "name": "ipython",
    "version": 3
   },
   "file_extension": ".py",
   "mimetype": "text/x-python",
   "name": "python",
   "nbconvert_exporter": "python",
   "pygments_lexer": "ipython3",
   "version": "3.11.7"
  }
 },
 "nbformat": 4,
 "nbformat_minor": 5
}
